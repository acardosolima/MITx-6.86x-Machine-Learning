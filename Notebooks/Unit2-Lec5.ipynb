{
 "cells": [
  {
   "attachments": {},
   "cell_type": "markdown",
   "metadata": {},
   "source": [
    "### Unit 02 - Nonlinear Classification, Linear regression, Collaborative Filtering\n",
    "#### Lecture 5"
   ]
  },
  {
   "cell_type": "code",
   "execution_count": 1,
   "metadata": {},
   "outputs": [],
   "source": [
    "import numpy as np"
   ]
  },
  {
   "cell_type": "code",
   "execution_count": 43,
   "metadata": {},
   "outputs": [
    {
     "name": "stdout",
     "output_type": "stream",
     "text": [
      "1.25\n"
     ]
    }
   ],
   "source": [
    "x = np.array([[1, 0, 1], [1, 1, 1], [1, 1, -1], [-1, 1, 1]])\n",
    "y = [2, 2.7, -0.7, 2]\n",
    "theta = [0, 1, 2]\n",
    "\n",
    "z = y - np.dot(theta,np.transpose(x))\n",
    "\n",
    "def lossFn(z):\n",
    "    return 0 if z >= 1 else 1 - z\n",
    "\n",
    "loss = np.vectorize(lossFn)\n",
    "\n",
    "R_t = loss(z)\n",
    "    \n",
    "print(np.mean(R_t))\n",
    "\n"
   ]
  },
  {
   "cell_type": "code",
   "execution_count": null,
   "metadata": {},
   "outputs": [],
   "source": []
  }
 ],
 "metadata": {
  "kernelspec": {
   "display_name": "env",
   "language": "python",
   "name": "python3"
  },
  "language_info": {
   "codemirror_mode": {
    "name": "ipython",
    "version": 3
   },
   "file_extension": ".py",
   "mimetype": "text/x-python",
   "name": "python",
   "nbconvert_exporter": "python",
   "pygments_lexer": "ipython3",
   "version": "3.10.7"
  },
  "orig_nbformat": 4,
  "vscode": {
   "interpreter": {
    "hash": "38bec0222a43613c8c9e93418b491fb75f63a82794dcb53321d7a5dc7b62791e"
   }
  }
 },
 "nbformat": 4,
 "nbformat_minor": 2
}
