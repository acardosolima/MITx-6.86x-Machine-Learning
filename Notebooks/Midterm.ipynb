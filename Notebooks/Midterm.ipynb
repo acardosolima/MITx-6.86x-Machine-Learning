{
 "cells": [
  {
   "cell_type": "code",
   "execution_count": 4,
   "metadata": {},
   "outputs": [],
   "source": [
    "import numpy as np\n",
    "import random\n",
    "import matplotlib.pyplot as plt\n",
    "import seaborn as sns"
   ]
  },
  {
   "attachments": {},
   "cell_type": "markdown",
   "metadata": {},
   "source": [
    "## Problem 1 - Linear classification"
   ]
  },
  {
   "cell_type": "markdown",
   "metadata": {},
   "source": []
  },
  {
   "cell_type": "code",
   "execution_count": 5,
   "metadata": {},
   "outputs": [],
   "source": [
    "y = np.array([-1, -1, -1, -1, -1, 1, 1, 1, 1, 1])\n",
    "feature_vector = np.array([[0,0], [2, 0], [3,0], [0,2], [2,2], [5,1], [5,2], [2,4], [4,4], [5,5]])"
   ]
  },
  {
   "attachments": {},
   "cell_type": "markdown",
   "metadata": {},
   "source": [
    "### 1. (2)\n",
    "theta_0 is equal to the sum of errors and signals\n",
    "\n",
    "-1 -9 -10 -5 -9 +11 +0 +3 +1 +1 = -18"
   ]
  },
  {
   "cell_type": "code",
   "execution_count": 6,
   "metadata": {},
   "outputs": [],
   "source": [
    "def hinge_loss_single(feature_vector, label, theta, theta_0):\n",
    "    \"\"\"\n",
    "    Finds the hinge loss on a single data point given specific classification\n",
    "    parameters.\n",
    "\n",
    "    Args:\n",
    "        `feature_vector` - numpy array describing the given data point.\n",
    "        `label` - float, the correct classification of the data\n",
    "            point.\n",
    "        `theta` - numpy array describing the linear classifier.\n",
    "        `theta_0` - float representing the offset parameter.\n",
    "    Returns:\n",
    "        the hinge loss, as a float, associated with the given data point and\n",
    "        parameters.\n",
    "    \"\"\"\n",
    "    # Loss (z) = 0 if z >= 1, (1 - z) otherwise\n",
    "    # z = y * (θ * x + θ_0)\n",
    "    z = label * (np.dot(feature_vector,theta) + theta_0)\n",
    "    loss = (1 - z) if z < 1 else 0\n",
    "    return loss\n",
    "\n",
    "\n",
    "\n",
    "def hinge_loss_full(feature_matrix, labels, theta, theta_0):\n",
    "    \"\"\"\n",
    "    Finds the hinge loss for given classification parameters averaged over a\n",
    "    given dataset\n",
    "\n",
    "    Args:\n",
    "        `feature_matrix` - numpy matrix describing the given data. Each row\n",
    "            represents a single data point.\n",
    "        `labels` - numpy array where the kth element of the array is the\n",
    "            correct classification of the kth row of the feature matrix.\n",
    "        `theta` - numpy array describing the linear classifier.\n",
    "        `theta_0` - real valued number representing the offset parameter.\n",
    "    Returns:\n",
    "        the hinge loss, as a float, associated with the given dataset and\n",
    "        parameters.  This number should be the average hinge loss across all of\n",
    "    \"\"\"\n",
    "\n",
    "    y = np.dot(feature_matrix, theta) + theta_0\n",
    "    losses = np.maximum(0.0, 1 - y * labels)\n",
    "    return np.mean(losses)"
   ]
  },
  {
   "cell_type": "code",
   "execution_count": 7,
   "metadata": {},
   "outputs": [
    {
     "name": "stdout",
     "output_type": "stream",
     "text": [
      "0.0\n"
     ]
    }
   ],
   "source": [
    "# 1. (6)\n",
    "ret_hinge = hinge_loss_full(feature_vector, y, np.array([1,1]), -5)\n",
    "print(ret_hinge)"
   ]
  },
  {
   "cell_type": "code",
   "execution_count": 8,
   "metadata": {},
   "outputs": [
    {
     "name": "stdout",
     "output_type": "stream",
     "text": [
      "0.15\n"
     ]
    }
   ],
   "source": [
    "# 1. (7)\n",
    "ret_hinge = hinge_loss_full(feature_vector, y, np.array([0.5,0.5]), -2.5)\n",
    "print(ret_hinge)"
   ]
  },
  {
   "attachments": {},
   "cell_type": "markdown",
   "metadata": {},
   "source": [
    "## Problem 2 - Kernel methods"
   ]
  },
  {
   "cell_type": "code",
   "execution_count": 9,
   "metadata": {},
   "outputs": [],
   "source": [
    "y = np.array([-1, -1, -1, -1, -1, 1, 1, 1, 1, 1])\n",
    "feature_vector = np.array([[0,0], [2, 0], [3,3], [0,2], [1,1], [4,1], [5,2], [1,4], [4,4], [5,5]])"
   ]
  },
  {
   "attachments": {},
   "cell_type": "markdown",
   "metadata": {},
   "source": [
    "### 2. (2)\n",
    "theta_0 is equal to the sum of errors and signals\n",
    "\n",
    "| 21 | 1  | 21  | \n",
    "| 65 | -1 | -65 | \n",
    "| 30 | 1  | 30  | \n",
    "| 72 | -1 | -72 |\n",
    "| 4  | 1  | 4   | \n",
    "| 11 | -1 | -11 | \n",
    "| 31 | -1 | -31 | \n",
    "| 15 | 1  | 15  |\n",
    "| 1  | -1 | -1  |\n",
    "\n",
    "theta_0 = -110"
   ]
  },
  {
   "attachments": {},
   "cell_type": "markdown",
   "metadata": {},
   "source": [
    "## Problem 3 - SGD"
   ]
  },
  {
   "attachments": {},
   "cell_type": "markdown",
   "metadata": {},
   "source": [
    "## Problem 4 - Rating matrix"
   ]
  },
  {
   "attachments": {},
   "cell_type": "markdown",
   "metadata": {},
   "source": [
    "## Problem 5 - Neural networks\n"
   ]
  },
  {
   "cell_type": "markdown",
   "metadata": {},
   "source": []
  }
 ],
 "metadata": {
  "kernelspec": {
   "display_name": "env",
   "language": "python",
   "name": "python3"
  },
  "language_info": {
   "codemirror_mode": {
    "name": "ipython",
    "version": 3
   },
   "file_extension": ".py",
   "mimetype": "text/x-python",
   "name": "python",
   "nbconvert_exporter": "python",
   "pygments_lexer": "ipython3",
   "version": "3.10.7"
  },
  "orig_nbformat": 4
 },
 "nbformat": 4,
 "nbformat_minor": 2
}
