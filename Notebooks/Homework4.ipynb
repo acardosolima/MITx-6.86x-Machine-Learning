{
 "cells": [
  {
   "cell_type": "code",
   "execution_count": 24,
   "metadata": {},
   "outputs": [],
   "source": [
    "import numpy as np\n",
    "from matplotlib import pyplot as plt"
   ]
  },
  {
   "cell_type": "code",
   "execution_count": 49,
   "metadata": {},
   "outputs": [],
   "source": [
    "P = np.array([\n",
    "    [0,-6],\n",
    "    [4,4],\n",
    "    [0,0],\n",
    "    [-5,2]\n",
    "])"
   ]
  },
  {
   "cell_type": "code",
   "execution_count": 44,
   "metadata": {},
   "outputs": [],
   "source": [
    "def l1_norm(x, y):\n",
    "    return np.abs(np.sum(np.abs(x)) - np.sum(np.abs(y)))\n",
    "\n",
    "def l2_norm(x, y):\n",
    "    return np.abs(np.sqrt(np.sum(np.abs(x)**2)) - np.sqrt(np.sum(np.abs(y)**2)))"
   ]
  },
  {
   "cell_type": "code",
   "execution_count": 89,
   "metadata": {},
   "outputs": [],
   "source": [
    "def kmedoids(a, k, centers, norm_fn=l1_norm):\n",
    "    clusters = [ [] for _ in range(k)]\n",
    "    \n",
    "    for a_i in a:\n",
    "        dist = norm_fn(a_i, centers[0]) - norm_fn(a_i, centers[1])\n",
    "        clusters[0].append(a_i) if dist <= 0 else clusters[1].append(a_i)\n",
    "\n",
    "    print(clusters)"
   ]
  },
  {
   "cell_type": "code",
   "execution_count": 90,
   "metadata": {},
   "outputs": [
    {
     "name": "stdout",
     "output_type": "stream",
     "text": [
      "[[array([4, 4]), array([-5,  2])], [array([ 0, -6]), array([0, 0])]]\n"
     ]
    }
   ],
   "source": [
    "kmedoids(a=P, k=2, centers=np.array([[-5,2], [0,-6]]))"
   ]
  },
  {
   "cell_type": "code",
   "execution_count": null,
   "metadata": {},
   "outputs": [],
   "source": []
  }
 ],
 "metadata": {
  "kernelspec": {
   "display_name": "env",
   "language": "python",
   "name": "python3"
  },
  "language_info": {
   "codemirror_mode": {
    "name": "ipython",
    "version": 3
   },
   "file_extension": ".py",
   "mimetype": "text/x-python",
   "name": "python",
   "nbconvert_exporter": "python",
   "pygments_lexer": "ipython3",
   "version": "3.10.7"
  },
  "orig_nbformat": 4
 },
 "nbformat": 4,
 "nbformat_minor": 2
}
