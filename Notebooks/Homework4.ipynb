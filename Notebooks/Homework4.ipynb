{
 "cells": [
  {
   "cell_type": "code",
   "execution_count": 9,
   "metadata": {},
   "outputs": [],
   "source": [
    "import numpy as np\n",
    "import math\n",
    "from matplotlib import pyplot as plt"
   ]
  },
  {
   "attachments": {},
   "cell_type": "markdown",
   "metadata": {},
   "source": [
    "### 4.1 K-means and K-medoids"
   ]
  },
  {
   "cell_type": "code",
   "execution_count": 4,
   "metadata": {},
   "outputs": [],
   "source": [
    "P = np.array([\n",
    "    [0,-6],\n",
    "    [4,4],\n",
    "    [0,0],\n",
    "    [-5,2]\n",
    "])"
   ]
  },
  {
   "cell_type": "code",
   "execution_count": 5,
   "metadata": {},
   "outputs": [],
   "source": [
    "def l1_norm(x, y):\n",
    "    return np.abs(np.sum(np.abs(x)) - np.sum(np.abs(y)))\n",
    "\n",
    "def l2_norm(x, y):\n",
    "    return np.abs(np.sqrt(np.sum(np.abs(x)**2)) - np.sqrt(np.sum(np.abs(y)**2)))"
   ]
  },
  {
   "cell_type": "code",
   "execution_count": 6,
   "metadata": {},
   "outputs": [],
   "source": [
    "def kmedoids(a, k, centers, norm_fn=l1_norm):\n",
    "    clusters = [ [] for _ in range(k)]\n",
    "    \n",
    "    for a_i in a:\n",
    "        dist = norm_fn(a_i, centers[0]) - norm_fn(a_i, centers[1])\n",
    "        clusters[0].append(a_i) if dist <= 0 else clusters[1].append(a_i)\n",
    "\n",
    "    print(clusters)"
   ]
  },
  {
   "attachments": {},
   "cell_type": "markdown",
   "metadata": {},
   "source": [
    "#### Clustering 1\n",
    "\n",
    "l1 norm = [[array([4, 4]), array([-5,  2])], [array([ 0, -6]), array([0, 0])]]\n",
    "\n",
    "Centrals = [4,4] and [0,-6]"
   ]
  },
  {
   "cell_type": "code",
   "execution_count": 7,
   "metadata": {},
   "outputs": [
    {
     "name": "stdout",
     "output_type": "stream",
     "text": [
      "[[array([4, 4]), array([-5,  2])], [array([ 0, -6]), array([0, 0])]]\n"
     ]
    }
   ],
   "source": [
    "kmedoids(a=P, k=2, centers=np.array([[-5,2], [0,-6]]))"
   ]
  },
  {
   "attachments": {},
   "cell_type": "markdown",
   "metadata": {},
   "source": [
    "#### Clustering 2\n",
    "\n",
    "l2 norm = [[array([4, 4]), array([0, 0]), array([-5,  2])], [array([ 0, -6])]]\n",
    "\n",
    "Centrals remains the same"
   ]
  },
  {
   "cell_type": "code",
   "execution_count": 8,
   "metadata": {},
   "outputs": [
    {
     "name": "stdout",
     "output_type": "stream",
     "text": [
      "[[array([4, 4]), array([0, 0]), array([-5,  2])], [array([ 0, -6])]]\n"
     ]
    }
   ],
   "source": [
    "kmedoids(a=P, k=2, centers=np.array([[-5,2], [0,-6]]), norm_fn=l2_norm)"
   ]
  },
  {
   "attachments": {},
   "cell_type": "markdown",
   "metadata": {},
   "source": [
    "#### Clustering 3\n",
    "\n",
    "K-means with l1 norm, should have used np.median(a, axis=0). \n",
    "\n",
    "Centrals will be some point not in the original dataset"
   ]
  },
  {
   "attachments": {},
   "cell_type": "markdown",
   "metadata": {},
   "source": [
    "### 4.2 Maximum Likelihood Estimation"
   ]
  },
  {
   "attachments": {},
   "cell_type": "markdown",
   "metadata": {},
   "source": [
    "theta_A = 0.42857\n",
    "theta_B = 0.35714\n",
    "theta_C = 0.2142857\n",
    "\n",
    "ABC = 0.032798459\n",
    "BBB = 0.045552842\n",
    "ABB = 0.054663666\n",
    "AAC = 0.039358335"
   ]
  },
  {
   "attachments": {},
   "cell_type": "markdown",
   "metadata": {},
   "source": [
    "### 4.3 EM Algorithm\n"
   ]
  },
  {
   "cell_type": "code",
   "execution_count": 4,
   "metadata": {},
   "outputs": [],
   "source": [
    "pi_1 = 0.5\n",
    "pi_2 = 0.5\n",
    "mu_1 = 6\n",
    "mu_2 = 7\n",
    "sigma_1 = 1\n",
    "sigma_2 = 4\n",
    "\n",
    "x = np.array([\n",
    "    -1,\n",
    "    0,\n",
    "    4,\n",
    "    5,\n",
    "    6\n",
    "])"
   ]
  },
  {
   "cell_type": "code",
   "execution_count": 15,
   "metadata": {},
   "outputs": [],
   "source": [
    "def pdf_gaussian(x, mean, variance):\n",
    "    return (1/np.sqrt(2*np.pi * variance)) * np.exp(-((x - mean)**2/(2*variance)))\n"
   ]
  },
  {
   "cell_type": "code",
   "execution_count": 17,
   "metadata": {},
   "outputs": [
    {
     "name": "stdout",
     "output_type": "stream",
     "text": [
      "-24.512532330086678\n"
     ]
    }
   ],
   "source": [
    "#data log-likelihood p(x;theta) = pi_1 * gaussian(params 1) + pi_2 * gaussian(params 2)\n",
    "\n",
    "result = np.log(pi_1 * pdf_gaussian(x, mu_1, sigma_1) + pi_2 * pdf_gaussian(x, mu_2, sigma_2))\n",
    "\n",
    "print(np.sum(result))"
   ]
  },
  {
   "cell_type": "code",
   "execution_count": 22,
   "metadata": {},
   "outputs": [
    {
     "name": "stdout",
     "output_type": "stream",
     "text": [
      "[False False False  True  True]\n"
     ]
    }
   ],
   "source": [
    "weights_1 = np.log(pi_1 * pdf_gaussian(x, mu_1, sigma_1))\n",
    "weights_2 = np.log(pi_2 * pdf_gaussian(x, mu_2, sigma_2)) \n",
    "\n",
    "print(weights_1 > weights_2)"
   ]
  },
  {
   "cell_type": "code",
   "execution_count": null,
   "metadata": {},
   "outputs": [],
   "source": []
  }
 ],
 "metadata": {
  "kernelspec": {
   "display_name": "env",
   "language": "python",
   "name": "python3"
  },
  "language_info": {
   "codemirror_mode": {
    "name": "ipython",
    "version": 3
   },
   "file_extension": ".py",
   "mimetype": "text/x-python",
   "name": "python",
   "nbconvert_exporter": "python",
   "pygments_lexer": "ipython3",
   "version": "3.10.7"
  },
  "orig_nbformat": 4
 },
 "nbformat": 4,
 "nbformat_minor": 2
}
